{
 "cells": [
  {
   "cell_type": "markdown",
   "metadata": {},
   "source": [
    "<span style=\"font-size:24px;\">Installing PyFlink<span>\n",
    "\n",
    "<span style=\"font-size:16px;\">Pre-requisites:<span>\n",
    "\n",
    "1. <span style=\"font-size:16px;\">Python 3.8+<span>\n",
    "2. <span style=\"font-size:16px;\">Java (JDK 8 or 11)<span>\n",
    "3. <span style=\"font-size:16px;\">Pip: Python's package manager, version 19.3 or later.<span>\n",
    "\n",
    "<span style=\"font-size:16px;\">To get started with PyFlink:<span>\n",
    "\n",
    "1. <span style=\"font-size:16px;\">Setup a virtual environment:<span>\n",
    "    - <span style=\"font-size:16px;\">Using command prompt: python3.xx -m venv pyflink-venv<span>\n",
    "    - <span style=\"font-size:16px;\">Activate the virtual environment:<span>\n",
    "        - <span style=\"font-size:16px;\">Windows: pyflink-venv\\Scripts\\activate.bat<span>\n",
    "        - <span style=\"font-size:16px;\">Linux: source pyflink-venv/bin/activate<span>\n",
    "        - <span style=\"font-size:16px;\">MacOS: source pyflink-venv/bin/activate<span>\n",
    "    - <span style=\"font-size:16px;\">OR using the notebook select the kernel as the virtual environment<span>\n",
    "2. <span style=\"font-size:16px;\">Install PyFlink via pip:<span>"
   ]
  },
  {
   "cell_type": "code",
   "execution_count": null,
   "metadata": {},
   "outputs": [],
   "source": [
    "%pip install apache-flink"
   ]
  },
  {
   "cell_type": "markdown",
   "metadata": {},
   "source": [
    "<span style=\"font-size:16px;\">We can verify that the installation by running the given codeblock.<span>"
   ]
  },
  {
   "cell_type": "code",
   "execution_count": null,
   "metadata": {},
   "outputs": [],
   "source": [
    "import pyflink\n",
    "print(pyflink.__version__)"
   ]
  },
  {
   "cell_type": "markdown",
   "metadata": {},
   "source": [
    "<span style=\"font-size:16px;\">While PyFlink allows local execution for testing, you'll need the Flink runtime for advanced features.<span>\n",
    "\n",
    "- <span style=\"font-size:16px;\">Step 1: [Download Flink](https://flink.apache.org/downloads.html)<span>\n",
    "- <span style=\"font-size:16px;\">Select a stable release (e.g., Flink 1.17.x) compatible with your environment.<span>\n",
    "- <span style=\"font-size:16px;\">Step 2: Extract the Flink Archive: Extract the downloaded file using command prompt.<span>\n",
    "\n",
    "    - <span style=\"font-size:16px;\">tar -xzf apache-flink-*.tgz<span>\n",
    "    - <span style=\"font-size:16px;\"> Move the extracted directory to a suitable location (e.g., /opt/flink)<span>\n",
    "\n",
    "        <span style=\"font-size:16px;\">sudo mv apache-flink-*/ /opt/flink<span>\n",
    "- <span style=\"font-size:16px;\">Step 3: Add Flink to the PATH<span>\n",
    "    - <span style=\"font-size:16px;\">Update your shell configuration (~/.bashrc, ~/.zshrc, etc.)<span>\n",
    "\n",
    "        <span style=\"font-size:16px;\">export FLINK_HOME=/opt/flink<span>\n",
    "        <span style=\"font-size:16px;\">export PATH=$FLINK_HOME/bin:$PATH<span>\n",
    "    - <span style=\"font-size:16px;\">Source the updated configuration<span>\n",
    "\n",
    "        <span style=\"font-size:16px;\">source ~/.bashrc<span>\n",
    "        \n",
    "        <span style=\"font-size:16px;\">source ~/.zshrc<span>\n",
    "    - <span style=\"font-size:16px;\">Verify the installation<span>\n",
    "    \n",
    "        <span style=\"font-size:16px;\">flink --version<span>"
   ]
  },
  {
   "cell_type": "markdown",
   "metadata": {},
   "source": [
    "<span style=\"font-size:16px;\">We can now start a local Flink cluster using the following command:<span>\n",
    "\n",
    "<span style=\"font-size:16px;\"> $FLINK_HOME/bin/start-cluster.sh <span>\n",
    "\n",
    "<span style=\"font-size:16px;\"> This will also enable the Flink Web UI which can be accessed at [http://localhost:8081](http://localhost:8081)<span>\n",
    "\n",
    "<span style=\"font-size:16px;\">We can test our installation by running the following codeblock<span>\n"
   ]
  },
  {
   "cell_type": "code",
   "execution_count": 1,
   "metadata": {},
   "outputs": [
    {
     "name": "stdout",
     "output_type": "stream",
     "text": [
      "5> 1\n",
      "8> 4\n",
      "7> 3\n",
      "6> 2\n"
     ]
    },
    {
     "data": {
      "text/plain": [
       "<pyflink.common.job_execution_result.JobExecutionResult at 0x11caab550>"
      ]
     },
     "execution_count": 1,
     "metadata": {},
     "output_type": "execute_result"
    }
   ],
   "source": [
    "from pyflink.datastream import StreamExecutionEnvironment\n",
    "\n",
    "env = StreamExecutionEnvironment.get_execution_environment()\n",
    "env.from_collection([1, 2, 3, 4]).print()\n",
    "env.execute(\"Test PyFlink Job\")"
   ]
  },
  {
   "cell_type": "markdown",
   "metadata": {},
   "source": [
    "<span style=\"font-size:16px;\">Since pyflink doesn't integrate with the flink cluster, to run our code on the cluster and observe it on the UI, we first have to create a python file with our code and then run it using flink using the command:<span>\n",
    "\n",
    "<span style=\"font-size:16px;\">$FLINK_HOME/bin/flink run -py my_flink_job.py<span>"
   ]
  },
  {
   "cell_type": "markdown",
   "metadata": {},
   "source": [
    "<span style=\"font-size:16px;\">Once we are done with our work, we can stop the cluster using the command:<span>\n",
    "\n",
    "<span style=\"font-size:16px;\">$FLINK_HOME/bin/stop-cluster.sh<span>"
   ]
  }
 ],
 "metadata": {
  "kernelspec": {
   "display_name": ".venv",
   "language": "python",
   "name": "python3"
  },
  "language_info": {
   "codemirror_mode": {
    "name": "ipython",
    "version": 3
   },
   "file_extension": ".py",
   "mimetype": "text/x-python",
   "name": "python",
   "nbconvert_exporter": "python",
   "pygments_lexer": "ipython3",
   "version": "3.11.9"
  }
 },
 "nbformat": 4,
 "nbformat_minor": 2
}
